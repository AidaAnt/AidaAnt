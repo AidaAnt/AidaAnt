{
 "cells": [
  {
   "cell_type": "code",
   "execution_count": 1,
   "metadata": {},
   "outputs": [],
   "source": [
    "import pandas as pd"
   ]
  },
  {
   "cell_type": "code",
   "execution_count": 41,
   "metadata": {},
   "outputs": [],
   "source": [
    "import numpy as np"
   ]
  },
  {
   "cell_type": "code",
   "execution_count": 81,
   "metadata": {},
   "outputs": [
    {
     "name": "stdout",
     "output_type": "stream",
     "text": [
      "Collecting git+https://github.com/nlpub/pymystem3\n",
      "  Cloning https://github.com/nlpub/pymystem3 to c:\\users\\user.11\\appdata\\local\\temp\\pip-req-build-akm35gu9\n",
      "Requirement already satisfied: requests in c:\\users\\user.11\\appdata\\local\\continuum\\anaconda3\\lib\\site-packages (from pymystem3==0.2.0) (2.22.0)\n",
      "Requirement already satisfied: urllib3!=1.25.0,!=1.25.1,<1.26,>=1.21.1 in c:\\users\\user.11\\appdata\\local\\continuum\\anaconda3\\lib\\site-packages (from requests->pymystem3==0.2.0) (1.24.2)\n",
      "Requirement already satisfied: chardet<3.1.0,>=3.0.2 in c:\\users\\user.11\\appdata\\local\\continuum\\anaconda3\\lib\\site-packages (from requests->pymystem3==0.2.0) (3.0.4)\n",
      "Requirement already satisfied: certifi>=2017.4.17 in c:\\users\\user.11\\appdata\\local\\continuum\\anaconda3\\lib\\site-packages (from requests->pymystem3==0.2.0) (2019.9.11)\n",
      "Requirement already satisfied: idna<2.9,>=2.5 in c:\\users\\user.11\\appdata\\local\\continuum\\anaconda3\\lib\\site-packages (from requests->pymystem3==0.2.0) (2.8)\n",
      "Building wheels for collected packages: pymystem3\n",
      "  Building wheel for pymystem3 (setup.py): started\n",
      "  Building wheel for pymystem3 (setup.py): finished with status 'done'\n",
      "  Created wheel for pymystem3: filename=pymystem3-0.2.0-cp37-none-any.whl size=8036 sha256=de263fda13cb725ba003a4fc297146a6273a5a621c2598226cb0c04226c2ddc8\n",
      "  Stored in directory: C:\\Users\\user.11\\AppData\\Local\\Temp\\pip-ephem-wheel-cache-kjqgzwxx\\wheels\\7d\\75\\c2\\216a594291dee680749ce12c60d16125cfe1f363059e7163dc\n",
      "Successfully built pymystem3\n",
      "Installing collected packages: pymystem3\n",
      "Successfully installed pymystem3-0.2.0\n",
      "Note: you may need to restart the kernel to use updated packages.\n"
     ]
    },
    {
     "name": "stderr",
     "output_type": "stream",
     "text": [
      "  Running command git clone -q https://github.com/nlpub/pymystem3 'C:\\Users\\user.11\\AppData\\Local\\Temp\\pip-req-build-akm35gu9'\n"
     ]
    }
   ],
   "source": [
    "pip install git+https://github.com/nlpub/pymystem3"
   ]
  },
  {
   "cell_type": "code",
   "execution_count": 2,
   "metadata": {},
   "outputs": [],
   "source": [
    "from pymystem3 import Mystem"
   ]
  },
  {
   "cell_type": "code",
   "execution_count": 3,
   "metadata": {},
   "outputs": [],
   "source": [
    "m = Mystem()\n"
   ]
  },
  {
   "cell_type": "markdown",
   "metadata": {},
   "source": [
    "# **Задание 1**\n",
    "Для датафрейма log из материалов занятия создайте столбец source_type по следующим правилам:\n",
    "- если источник traffic_source равен yandex или google, то в source_type ставится organic\n",
    "- для источников paid и email из России - ставим ad\n",
    "- для источников paid и email не из России - ставим other\n",
    "- все остальные варианты берем из traffic_source без изменений\n"
   ]
  },
  {
   "cell_type": "code",
   "execution_count": 126,
   "metadata": {},
   "outputs": [],
   "source": [
    "log = pd.read_csv('visit_log.csv', sep=';')\n"
   ]
  },
  {
   "cell_type": "code",
   "execution_count": 125,
   "metadata": {},
   "outputs": [
    {
     "data": {
      "text/html": [
       "<div>\n",
       "<style scoped>\n",
       "    .dataframe tbody tr th:only-of-type {\n",
       "        vertical-align: middle;\n",
       "    }\n",
       "\n",
       "    .dataframe tbody tr th {\n",
       "        vertical-align: top;\n",
       "    }\n",
       "\n",
       "    .dataframe thead th {\n",
       "        text-align: right;\n",
       "    }\n",
       "</style>\n",
       "<table border=\"1\" class=\"dataframe\">\n",
       "  <thead>\n",
       "    <tr style=\"text-align: right;\">\n",
       "      <th></th>\n",
       "      <th>timestamp</th>\n",
       "      <th>visit_id</th>\n",
       "      <th>url</th>\n",
       "      <th>region</th>\n",
       "      <th>user_id</th>\n",
       "      <th>traffic_source</th>\n",
       "      <th>traffic_type</th>\n",
       "    </tr>\n",
       "  </thead>\n",
       "  <tbody>\n",
       "    <tr>\n",
       "      <td>18928</td>\n",
       "      <td>1550094255</td>\n",
       "      <td>c7e4bce62a</td>\n",
       "      <td>https://host.ru/8880fd00cf23066541</td>\n",
       "      <td>Australia</td>\n",
       "      <td>e721d23ec6</td>\n",
       "      <td>yandex</td>\n",
       "      <td>organic</td>\n",
       "    </tr>\n",
       "    <tr>\n",
       "      <td>18929</td>\n",
       "      <td>1550094260</td>\n",
       "      <td>39aeec73f8</td>\n",
       "      <td>https://host.ru/ee7c4e0674a284ee3f</td>\n",
       "      <td>Russia</td>\n",
       "      <td>9c832cf9d4</td>\n",
       "      <td>direct</td>\n",
       "      <td>NaN</td>\n",
       "    </tr>\n",
       "    <tr>\n",
       "      <td>18930</td>\n",
       "      <td>1550094269</td>\n",
       "      <td>f1b4590410</td>\n",
       "      <td>https://host.ru/a5dda93e70318570c0</td>\n",
       "      <td>Russia</td>\n",
       "      <td>7f59a1e6a7</td>\n",
       "      <td>direct</td>\n",
       "      <td>NaN</td>\n",
       "    </tr>\n",
       "    <tr>\n",
       "      <td>18931</td>\n",
       "      <td>1550094269</td>\n",
       "      <td>a7e2dfd759</td>\n",
       "      <td>https://host.ru/ef57543002ce2a0f2a</td>\n",
       "      <td>Belarus</td>\n",
       "      <td>04fec64cda</td>\n",
       "      <td>direct</td>\n",
       "      <td>NaN</td>\n",
       "    </tr>\n",
       "    <tr>\n",
       "      <td>18932</td>\n",
       "      <td>1550094280</td>\n",
       "      <td>5001544772</td>\n",
       "      <td>https://host.ru/9f90e5c423a5f976d4</td>\n",
       "      <td>Russia</td>\n",
       "      <td>072148e3ba</td>\n",
       "      <td>google</td>\n",
       "      <td>organic</td>\n",
       "    </tr>\n",
       "    <tr>\n",
       "      <td>18933</td>\n",
       "      <td>1550094288</td>\n",
       "      <td>57e5ba8560</td>\n",
       "      <td>https://host.ru/c2382eb3d6afc8d0f3</td>\n",
       "      <td>Belarus</td>\n",
       "      <td>98b19810d0</td>\n",
       "      <td>paid</td>\n",
       "      <td>other</td>\n",
       "    </tr>\n",
       "    <tr>\n",
       "      <td>18934</td>\n",
       "      <td>1550094296</td>\n",
       "      <td>6f9389ec1b</td>\n",
       "      <td>https://host.ru/f1eb4601740d627ab0</td>\n",
       "      <td>Russia</td>\n",
       "      <td>32ebb20c13</td>\n",
       "      <td>paid</td>\n",
       "      <td>ad</td>\n",
       "    </tr>\n",
       "    <tr>\n",
       "      <td>18935</td>\n",
       "      <td>1550094308</td>\n",
       "      <td>e8cf2eb8e6</td>\n",
       "      <td>https://host.ru/a5dda93e70318570c0</td>\n",
       "      <td>Belarus</td>\n",
       "      <td>b85baa8c73</td>\n",
       "      <td>yandex</td>\n",
       "      <td>organic</td>\n",
       "    </tr>\n",
       "    <tr>\n",
       "      <td>18936</td>\n",
       "      <td>1550094314</td>\n",
       "      <td>79530b9a67</td>\n",
       "      <td>https://host.ru/6fda01ec57f23abc9e</td>\n",
       "      <td>Russia</td>\n",
       "      <td>e154b06121</td>\n",
       "      <td>paid</td>\n",
       "      <td>ad</td>\n",
       "    </tr>\n",
       "    <tr>\n",
       "      <td>18937</td>\n",
       "      <td>1550094323</td>\n",
       "      <td>b3b634f824</td>\n",
       "      <td>https://host.ru/39fa884393666d45fc</td>\n",
       "      <td>Russia</td>\n",
       "      <td>7d27a58fb8</td>\n",
       "      <td>email</td>\n",
       "      <td>ad</td>\n",
       "    </tr>\n",
       "  </tbody>\n",
       "</table>\n",
       "</div>"
      ],
      "text/plain": [
       "        timestamp    visit_id                                 url     region  \\\n",
       "18928  1550094255  c7e4bce62a  https://host.ru/8880fd00cf23066541  Australia   \n",
       "18929  1550094260  39aeec73f8  https://host.ru/ee7c4e0674a284ee3f     Russia   \n",
       "18930  1550094269  f1b4590410  https://host.ru/a5dda93e70318570c0     Russia   \n",
       "18931  1550094269  a7e2dfd759  https://host.ru/ef57543002ce2a0f2a    Belarus   \n",
       "18932  1550094280  5001544772  https://host.ru/9f90e5c423a5f976d4     Russia   \n",
       "18933  1550094288  57e5ba8560  https://host.ru/c2382eb3d6afc8d0f3    Belarus   \n",
       "18934  1550094296  6f9389ec1b  https://host.ru/f1eb4601740d627ab0     Russia   \n",
       "18935  1550094308  e8cf2eb8e6  https://host.ru/a5dda93e70318570c0    Belarus   \n",
       "18936  1550094314  79530b9a67  https://host.ru/6fda01ec57f23abc9e     Russia   \n",
       "18937  1550094323  b3b634f824  https://host.ru/39fa884393666d45fc     Russia   \n",
       "\n",
       "          user_id traffic_source traffic_type  \n",
       "18928  e721d23ec6         yandex      organic  \n",
       "18929  9c832cf9d4         direct          NaN  \n",
       "18930  7f59a1e6a7         direct          NaN  \n",
       "18931  04fec64cda         direct          NaN  \n",
       "18932  072148e3ba         google      organic  \n",
       "18933  98b19810d0           paid        other  \n",
       "18934  32ebb20c13           paid           ad  \n",
       "18935  b85baa8c73         yandex      organic  \n",
       "18936  e154b06121           paid           ad  \n",
       "18937  7d27a58fb8          email           ad  "
      ]
     },
     "execution_count": 125,
     "metadata": {},
     "output_type": "execute_result"
    }
   ],
   "source": [
    "source_1 = ['yandex', 'google']\n",
    "source_2 = ['paid', 'email']\n",
    "\n",
    "for traffic_source in source_1:\n",
    "    log.loc[log.traffic_source == traffic_source, 'traffic_type'] = 'organic'\n",
    "    for traffic_source in source_2:\n",
    "        log.loc[(log.traffic_source == traffic_source) & (log.region == 'Russia'), 'traffic_type'] = 'ad'\n",
    "        log.loc[(log.traffic_source == traffic_source) & (log.region != 'Russia'), 'traffic_type'] = 'other'\n",
    "     \n",
    "    \n",
    "log.tail(10)    "
   ]
  },
  {
   "cell_type": "markdown",
   "metadata": {},
   "source": [
    "# **Задание 2**\n",
    "В файле URLs.txt содержатся url страниц новостного сайта. Вам необходимо отфильтровать его по адресам страниц с текстами новостей. Известно, что шаблон страницы новостей имеет внутри url следующую конструкцию: /, затем 8 цифр, затем дефис. Выполните следующие действия:\n",
    "1. Прочитайте содержимое файла с датафрейм\n",
    "2. Отфильтруйте страницы с текстом новостей, используя метод str.contains и регулярное выражение в соответствии с заданным шаблоном\n",
    "\n"
   ]
  },
  {
   "cell_type": "code",
   "execution_count": 157,
   "metadata": {},
   "outputs": [],
   "source": [
    "import re"
   ]
  },
  {
   "cell_type": "code",
   "execution_count": 167,
   "metadata": {},
   "outputs": [
    {
     "data": {
      "text/plain": [
       "['/98767895-', '/46829772-']"
      ]
     },
     "execution_count": 167,
     "metadata": {},
     "output_type": "execute_result"
    }
   ],
   "source": [
    "string = ('whjd/98767895-.oiuy, wruw.rwrpiu/46829772-.ksls')\n",
    "re.findall(r'/\\d{8}\\-', string)"
   ]
  },
  {
   "cell_type": "code",
   "execution_count": 171,
   "metadata": {},
   "outputs": [
    {
     "data": {
      "text/html": [
       "<div>\n",
       "<style scoped>\n",
       "    .dataframe tbody tr th:only-of-type {\n",
       "        vertical-align: middle;\n",
       "    }\n",
       "\n",
       "    .dataframe tbody tr th {\n",
       "        vertical-align: top;\n",
       "    }\n",
       "\n",
       "    .dataframe thead th {\n",
       "        text-align: right;\n",
       "    }\n",
       "</style>\n",
       "<table border=\"1\" class=\"dataframe\">\n",
       "  <thead>\n",
       "    <tr style=\"text-align: right;\">\n",
       "      <th></th>\n",
       "      <th>url</th>\n",
       "    </tr>\n",
       "  </thead>\n",
       "  <tbody>\n",
       "    <tr>\n",
       "      <td>3</td>\n",
       "      <td>/politics/36188461-s-marta-zhizn-rossiyan-susc...</td>\n",
       "    </tr>\n",
       "    <tr>\n",
       "      <td>4</td>\n",
       "      <td>/world/36007585-tramp-pridumal-kak-reshit-ukra...</td>\n",
       "    </tr>\n",
       "    <tr>\n",
       "      <td>5</td>\n",
       "      <td>/science/36157853-nasa-sobiraet-ekstrennuyu-pr...</td>\n",
       "    </tr>\n",
       "    <tr>\n",
       "      <td>6</td>\n",
       "      <td>/video/36001498-poyavilis-pervye-podrobnosti-g...</td>\n",
       "    </tr>\n",
       "    <tr>\n",
       "      <td>7</td>\n",
       "      <td>/world/36007585-tramp-pridumal-kak-reshit-ukra...</td>\n",
       "    </tr>\n",
       "  </tbody>\n",
       "</table>\n",
       "</div>"
      ],
      "text/plain": [
       "                                                 url\n",
       "3  /politics/36188461-s-marta-zhizn-rossiyan-susc...\n",
       "4  /world/36007585-tramp-pridumal-kak-reshit-ukra...\n",
       "5  /science/36157853-nasa-sobiraet-ekstrennuyu-pr...\n",
       "6  /video/36001498-poyavilis-pervye-podrobnosti-g...\n",
       "7  /world/36007585-tramp-pridumal-kak-reshit-ukra..."
      ]
     },
     "execution_count": 171,
     "metadata": {},
     "output_type": "execute_result"
    }
   ],
   "source": [
    "urls = pd.read_csv('URLs.txt')\n",
    "urls[urls.url.str.contains(r'/\\d{8}\\-', regex=True)].head(5)"
   ]
  },
  {
   "cell_type": "markdown",
   "metadata": {},
   "source": [
    "### Домашнее задание 3\n",
    "В датафрейме data создайте столбец lemmas, в котором вычислите леммы поисковых запросов из столбца keyword. Леммы должны иметь строковый тип."
   ]
  },
  {
   "cell_type": "code",
   "execution_count": 173,
   "metadata": {},
   "outputs": [],
   "source": [
    "data = pd.DataFrame({\n",
    "    'keyword': ['курс гривны к рублю', 'доллары в рубли', '100 долларов в рублях', 'курс рубля'],\n",
    "    'shows': [125076, 114173, 97534, 53546],\n",
    "})"
   ]
  },
  {
   "cell_type": "code",
   "execution_count": 196,
   "metadata": {},
   "outputs": [],
   "source": [
    "def lem(keyword):\n",
    "    for i in data['keyword']:\n",
    "        #print(i.split())\n",
    "        #print(type(i))\n",
    "        lemmas = m.lemmatize(i)\n",
    "        lem = ''.join(lemmas)\n",
    "        return lem"
   ]
  },
  {
   "cell_type": "code",
   "execution_count": 198,
   "metadata": {},
   "outputs": [
    {
     "data": {
      "text/html": [
       "<div>\n",
       "<style scoped>\n",
       "    .dataframe tbody tr th:only-of-type {\n",
       "        vertical-align: middle;\n",
       "    }\n",
       "\n",
       "    .dataframe tbody tr th {\n",
       "        vertical-align: top;\n",
       "    }\n",
       "\n",
       "    .dataframe thead th {\n",
       "        text-align: right;\n",
       "    }\n",
       "</style>\n",
       "<table border=\"1\" class=\"dataframe\">\n",
       "  <thead>\n",
       "    <tr style=\"text-align: right;\">\n",
       "      <th></th>\n",
       "      <th>keyword</th>\n",
       "      <th>shows</th>\n",
       "      <th>lemmas</th>\n",
       "    </tr>\n",
       "  </thead>\n",
       "  <tbody>\n",
       "    <tr>\n",
       "      <td>0</td>\n",
       "      <td>курс гривны к рублю</td>\n",
       "      <td>125076</td>\n",
       "      <td>курс гривна к рубль\\n</td>\n",
       "    </tr>\n",
       "    <tr>\n",
       "      <td>1</td>\n",
       "      <td>доллары в рубли</td>\n",
       "      <td>114173</td>\n",
       "      <td>курс гривна к рубль\\n</td>\n",
       "    </tr>\n",
       "    <tr>\n",
       "      <td>2</td>\n",
       "      <td>100 долларов в рублях</td>\n",
       "      <td>97534</td>\n",
       "      <td>курс гривна к рубль\\n</td>\n",
       "    </tr>\n",
       "    <tr>\n",
       "      <td>3</td>\n",
       "      <td>курс рубля</td>\n",
       "      <td>53546</td>\n",
       "      <td>курс гривна к рубль\\n</td>\n",
       "    </tr>\n",
       "  </tbody>\n",
       "</table>\n",
       "</div>"
      ],
      "text/plain": [
       "                 keyword   shows                 lemmas\n",
       "0    курс гривны к рублю  125076  курс гривна к рубль\\n\n",
       "1        доллары в рубли  114173  курс гривна к рубль\\n\n",
       "2  100 долларов в рублях   97534  курс гривна к рубль\\n\n",
       "3             курс рубля   53546  курс гривна к рубль\\n"
      ]
     },
     "execution_count": 198,
     "metadata": {},
     "output_type": "execute_result"
    }
   ],
   "source": [
    "data['lemmas'] = data['keyword'].apply(lem) \n",
    "data.head()"
   ]
  },
  {
   "cell_type": "code",
   "execution_count": null,
   "metadata": {},
   "outputs": [],
   "source": []
  }
 ],
 "metadata": {
  "kernelspec": {
   "display_name": "Python 3",
   "language": "python",
   "name": "python3"
  },
  "language_info": {
   "codemirror_mode": {
    "name": "ipython",
    "version": 3
   },
   "file_extension": ".py",
   "mimetype": "text/x-python",
   "name": "python",
   "nbconvert_exporter": "python",
   "pygments_lexer": "ipython3",
   "version": "3.7.4"
  }
 },
 "nbformat": 4,
 "nbformat_minor": 2
}
