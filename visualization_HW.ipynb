{
 "cells": [
  {
   "cell_type": "markdown",
   "metadata": {},
   "source": [
    "# Домашнее задание к лекции \"Визуализация данных\"\n",
    "## Обязательная часть\n",
    "Вам необходимо провести базовый EDA выбранного набора данных.\n",
    "\n",
    "Требования к анализу:\n",
    "\n",
    "построить не менее 4 визуализаций различных видов;\n",
    "каждая визуализация должным образом оформлена и читается даже в отрыве от контекста;\n",
    "по каждой визуализации необходимо написать вывод (какую гипотезу на ее основе можно выдвинуть?).\n",
    "Откуда брать данные?\n",
    "\n",
    "Можете взять свои рабочие данные, либо найти открытые данные (например, на kaggle.com) по интересующей вас предметной области (тогда не забудьте их выложить на github вместе с ноутбуком). Если идей нет, можете взять один из перечисленных ниже:\n",
    "\n",
    "* данные приложений из Google Play;\n",
    "* данные о видео из трендов YouTube;\n",
    "* данные об уровне счастья в разных странах;\n",
    "* данные по фильмам и сериалам Netflix.\n",
    "## Дополнительная часть (необязательная)\n",
    "построить дополнительно не менее 2 визуализаций (итого не менее 6);\n",
    "в работе должны присутствовать следующие визуализации: boxplot, heatmap, scatter plot matrix;\n",
    "не менее двух визуализаций должны быть интерактивными.\n",
    "ПРИМЕЧАНИЕ\n",
    "Домашнее задание сдается ссылкой на репозиторий GitHub. Не сможем проверить или помочь, если вы пришлете:\n",
    "\n",
    "файлы;\n",
    "архивы;\n",
    "скриншоты кода.\n",
    "Все обсуждения и консультации по выполнению домашнего задания ведутся только на соответствующем канале в slack.\n",
    "\n",
    "Как правильно задавать вопросы аспирантам, преподавателям и коллегам\n",
    "Прежде чем задать вопрос, попробуйте найти ответ в интернете. Навык самостоятельного поиска информации — один из важнейших. Каждый практикующий специалист любого уровня делает это ежедневно.\n",
    "\n",
    "Сформулируйте вопрос по алгоритму:\n",
    "1) Что я делаю?\n",
    "2) Какого результата я ожидаю?\n",
    "3) Как фактический результат отличается от ожидаемого?\n",
    "4) Что я уже попробовал сделать, чтобы исправить проблему?\n",
    "\n",
    "По возможности прикрепите к вопросу скриншоты либо ссылки на код. Не выкладывайте все решение, оставляйте только проблемный и воспроизводимый участок кода."
   ]
  },
  {
   "cell_type": "code",
   "execution_count": 35,
   "metadata": {},
   "outputs": [],
   "source": [
    "from pylab import rcParams\n",
    "rcParams['figure.figsize'] = 10,7\n",
    "\n",
    "# импортируем нужные библиотеки\n",
    "import pandas as pd\n",
    "import matplotlib.pyplot as plt\n",
    "import seaborn as sns"
   ]
  },
  {
   "cell_type": "code",
   "execution_count": 97,
   "metadata": {},
   "outputs": [],
   "source": [
    "ih_2015 = pd.read_csv('Новая папка\\datasets_894_813759_2015.csv')\n",
    "ih_2016 = pd.read_csv('Новая папка\\datasets_894_813759_2016.csv')\n",
    "ih_2017 = pd.read_csv('Новая папка\\datasets_894_813759_2017.csv')\n",
    "ih_2018 = pd.read_csv('Новая папка\\datasets_894_813759_2018.csv')\n",
    "ih_2019 = pd.read_csv('Новая папка\\datasets_894_813759_2019.csv')"
   ]
  },
  {
   "cell_type": "code",
   "execution_count": 98,
   "metadata": {},
   "outputs": [
    {
     "data": {
      "text/html": [
       "<div>\n",
       "<style scoped>\n",
       "    .dataframe tbody tr th:only-of-type {\n",
       "        vertical-align: middle;\n",
       "    }\n",
       "\n",
       "    .dataframe tbody tr th {\n",
       "        vertical-align: top;\n",
       "    }\n",
       "\n",
       "    .dataframe thead th {\n",
       "        text-align: right;\n",
       "    }\n",
       "</style>\n",
       "<table border=\"1\" class=\"dataframe\">\n",
       "  <thead>\n",
       "    <tr style=\"text-align: right;\">\n",
       "      <th></th>\n",
       "      <th>Overall rank</th>\n",
       "      <th>Country or region</th>\n",
       "      <th>Score</th>\n",
       "      <th>GDP per capita</th>\n",
       "      <th>Social support</th>\n",
       "      <th>Healthy life expectancy</th>\n",
       "      <th>Freedom to make life choices</th>\n",
       "      <th>Generosity</th>\n",
       "      <th>Perceptions of corruption</th>\n",
       "    </tr>\n",
       "  </thead>\n",
       "  <tbody>\n",
       "    <tr>\n",
       "      <td>151</td>\n",
       "      <td>152</td>\n",
       "      <td>Rwanda</td>\n",
       "      <td>3.334</td>\n",
       "      <td>0.359</td>\n",
       "      <td>0.711</td>\n",
       "      <td>0.614</td>\n",
       "      <td>0.555</td>\n",
       "      <td>0.217</td>\n",
       "      <td>0.411</td>\n",
       "    </tr>\n",
       "    <tr>\n",
       "      <td>152</td>\n",
       "      <td>153</td>\n",
       "      <td>Tanzania</td>\n",
       "      <td>3.231</td>\n",
       "      <td>0.476</td>\n",
       "      <td>0.885</td>\n",
       "      <td>0.499</td>\n",
       "      <td>0.417</td>\n",
       "      <td>0.276</td>\n",
       "      <td>0.147</td>\n",
       "    </tr>\n",
       "    <tr>\n",
       "      <td>153</td>\n",
       "      <td>154</td>\n",
       "      <td>Afghanistan</td>\n",
       "      <td>3.203</td>\n",
       "      <td>0.350</td>\n",
       "      <td>0.517</td>\n",
       "      <td>0.361</td>\n",
       "      <td>0.000</td>\n",
       "      <td>0.158</td>\n",
       "      <td>0.025</td>\n",
       "    </tr>\n",
       "    <tr>\n",
       "      <td>154</td>\n",
       "      <td>155</td>\n",
       "      <td>Central African Republic</td>\n",
       "      <td>3.083</td>\n",
       "      <td>0.026</td>\n",
       "      <td>0.000</td>\n",
       "      <td>0.105</td>\n",
       "      <td>0.225</td>\n",
       "      <td>0.235</td>\n",
       "      <td>0.035</td>\n",
       "    </tr>\n",
       "    <tr>\n",
       "      <td>155</td>\n",
       "      <td>156</td>\n",
       "      <td>South Sudan</td>\n",
       "      <td>2.853</td>\n",
       "      <td>0.306</td>\n",
       "      <td>0.575</td>\n",
       "      <td>0.295</td>\n",
       "      <td>0.010</td>\n",
       "      <td>0.202</td>\n",
       "      <td>0.091</td>\n",
       "    </tr>\n",
       "  </tbody>\n",
       "</table>\n",
       "</div>"
      ],
      "text/plain": [
       "     Overall rank         Country or region  Score  GDP per capita  \\\n",
       "151           152                    Rwanda  3.334           0.359   \n",
       "152           153                  Tanzania  3.231           0.476   \n",
       "153           154               Afghanistan  3.203           0.350   \n",
       "154           155  Central African Republic  3.083           0.026   \n",
       "155           156               South Sudan  2.853           0.306   \n",
       "\n",
       "     Social support  Healthy life expectancy  Freedom to make life choices  \\\n",
       "151           0.711                    0.614                         0.555   \n",
       "152           0.885                    0.499                         0.417   \n",
       "153           0.517                    0.361                         0.000   \n",
       "154           0.000                    0.105                         0.225   \n",
       "155           0.575                    0.295                         0.010   \n",
       "\n",
       "     Generosity  Perceptions of corruption  \n",
       "151       0.217                      0.411  \n",
       "152       0.276                      0.147  \n",
       "153       0.158                      0.025  \n",
       "154       0.235                      0.035  \n",
       "155       0.202                      0.091  "
      ]
     },
     "execution_count": 98,
     "metadata": {},
     "output_type": "execute_result"
    }
   ],
   "source": [
    "ih_2019.tail()"
   ]
  },
  {
   "cell_type": "code",
   "execution_count": 119,
   "metadata": {},
   "outputs": [],
   "source": [
    "ih_2015_h = ih_2015.head(10)"
   ]
  },
  {
   "cell_type": "code",
   "execution_count": 143,
   "metadata": {},
   "outputs": [],
   "source": [
    "#ih_2015_h"
   ]
  },
  {
   "cell_type": "code",
   "execution_count": 121,
   "metadata": {},
   "outputs": [],
   "source": [
    "ih_2015_t = ih_2015.tail(10)"
   ]
  },
  {
   "cell_type": "code",
   "execution_count": 144,
   "metadata": {},
   "outputs": [],
   "source": [
    "#ih_2019.tail(5)"
   ]
  },
  {
   "cell_type": "code",
   "execution_count": 14,
   "metadata": {},
   "outputs": [],
   "source": [
    "hs_2015 = ih_2015[['Country', 'Happiness Score']]\n",
    "hs_2016 = ih_2016[['Country', 'Happiness Score']]\n",
    "hs_2017 = ih_2017[['Country', 'Happiness.Score']] \n",
    "hs_2018 = ih_2018[['Country or region', 'Score']] \n",
    "hs_2019 = ih_2019[['Country or region', 'Score']] "
   ]
  },
  {
   "cell_type": "code",
   "execution_count": 53,
   "metadata": {},
   "outputs": [
    {
     "data": {
      "text/html": [
       "<div>\n",
       "<style scoped>\n",
       "    .dataframe tbody tr th:only-of-type {\n",
       "        vertical-align: middle;\n",
       "    }\n",
       "\n",
       "    .dataframe tbody tr th {\n",
       "        vertical-align: top;\n",
       "    }\n",
       "\n",
       "    .dataframe thead th {\n",
       "        text-align: right;\n",
       "    }\n",
       "</style>\n",
       "<table border=\"1\" class=\"dataframe\">\n",
       "  <thead>\n",
       "    <tr style=\"text-align: right;\">\n",
       "      <th></th>\n",
       "      <th>Region</th>\n",
       "      <th>Happiness Score</th>\n",
       "    </tr>\n",
       "  </thead>\n",
       "  <tbody>\n",
       "    <tr>\n",
       "      <td>0</td>\n",
       "      <td>Western Europe</td>\n",
       "      <td>7.587</td>\n",
       "    </tr>\n",
       "    <tr>\n",
       "      <td>1</td>\n",
       "      <td>Western Europe</td>\n",
       "      <td>7.561</td>\n",
       "    </tr>\n",
       "    <tr>\n",
       "      <td>4</td>\n",
       "      <td>North America</td>\n",
       "      <td>7.427</td>\n",
       "    </tr>\n",
       "    <tr>\n",
       "      <td>8</td>\n",
       "      <td>Australia and New Zealand</td>\n",
       "      <td>7.286</td>\n",
       "    </tr>\n",
       "    <tr>\n",
       "      <td>9</td>\n",
       "      <td>Australia and New Zealand</td>\n",
       "      <td>7.284</td>\n",
       "    </tr>\n",
       "    <tr>\n",
       "      <td>10</td>\n",
       "      <td>Middle East and Northern Africa</td>\n",
       "      <td>7.278</td>\n",
       "    </tr>\n",
       "    <tr>\n",
       "      <td>11</td>\n",
       "      <td>Latin America and Caribbean</td>\n",
       "      <td>7.226</td>\n",
       "    </tr>\n",
       "    <tr>\n",
       "      <td>13</td>\n",
       "      <td>Latin America and Caribbean</td>\n",
       "      <td>7.187</td>\n",
       "    </tr>\n",
       "    <tr>\n",
       "      <td>14</td>\n",
       "      <td>North America</td>\n",
       "      <td>7.119</td>\n",
       "    </tr>\n",
       "    <tr>\n",
       "      <td>19</td>\n",
       "      <td>Middle East and Northern Africa</td>\n",
       "      <td>6.901</td>\n",
       "    </tr>\n",
       "    <tr>\n",
       "      <td>23</td>\n",
       "      <td>Southeastern Asia</td>\n",
       "      <td>6.798</td>\n",
       "    </tr>\n",
       "    <tr>\n",
       "      <td>30</td>\n",
       "      <td>Central and Eastern Europe</td>\n",
       "      <td>6.505</td>\n",
       "    </tr>\n",
       "    <tr>\n",
       "      <td>33</td>\n",
       "      <td>Southeastern Asia</td>\n",
       "      <td>6.455</td>\n",
       "    </tr>\n",
       "    <tr>\n",
       "      <td>37</td>\n",
       "      <td>Eastern Asia</td>\n",
       "      <td>6.298</td>\n",
       "    </tr>\n",
       "    <tr>\n",
       "      <td>43</td>\n",
       "      <td>Central and Eastern Europe</td>\n",
       "      <td>6.003</td>\n",
       "    </tr>\n",
       "    <tr>\n",
       "      <td>45</td>\n",
       "      <td>Eastern Asia</td>\n",
       "      <td>5.987</td>\n",
       "    </tr>\n",
       "    <tr>\n",
       "      <td>70</td>\n",
       "      <td>Sub-Saharan Africa</td>\n",
       "      <td>5.477</td>\n",
       "    </tr>\n",
       "    <tr>\n",
       "      <td>77</td>\n",
       "      <td>Sub-Saharan Africa</td>\n",
       "      <td>5.268</td>\n",
       "    </tr>\n",
       "    <tr>\n",
       "      <td>78</td>\n",
       "      <td>Southern Asia</td>\n",
       "      <td>5.253</td>\n",
       "    </tr>\n",
       "    <tr>\n",
       "      <td>80</td>\n",
       "      <td>Southern Asia</td>\n",
       "      <td>5.194</td>\n",
       "    </tr>\n",
       "  </tbody>\n",
       "</table>\n",
       "</div>"
      ],
      "text/plain": [
       "                             Region  Happiness Score\n",
       "0                    Western Europe            7.587\n",
       "1                    Western Europe            7.561\n",
       "4                     North America            7.427\n",
       "8         Australia and New Zealand            7.286\n",
       "9         Australia and New Zealand            7.284\n",
       "10  Middle East and Northern Africa            7.278\n",
       "11      Latin America and Caribbean            7.226\n",
       "13      Latin America and Caribbean            7.187\n",
       "14                    North America            7.119\n",
       "19  Middle East and Northern Africa            6.901\n",
       "23                Southeastern Asia            6.798\n",
       "30       Central and Eastern Europe            6.505\n",
       "33                Southeastern Asia            6.455\n",
       "37                     Eastern Asia            6.298\n",
       "43       Central and Eastern Europe            6.003\n",
       "45                     Eastern Asia            5.987\n",
       "70               Sub-Saharan Africa            5.477\n",
       "77               Sub-Saharan Africa            5.268\n",
       "78                    Southern Asia            5.253\n",
       "80                    Southern Asia            5.194"
      ]
     },
     "execution_count": 53,
     "metadata": {},
     "output_type": "execute_result"
    }
   ],
   "source": [
    "regions = ih_2015.groupby(['Region'])\n",
    "regions = regions[['Region', 'Happiness Score']]\n",
    "regions.head(2)\n",
    "\n",
    "## как вывести bloxplot, чтобы по оси х были регионы, а по у - значения индекса?\n",
    "# plt.boxplot(regions['Happiness Score']) - так не работает...\n",
    "# Можно было бы увидеть разброс показателя внутри региона"
   ]
  },
  {
   "cell_type": "code",
   "execution_count": null,
   "metadata": {},
   "outputs": [],
   "source": []
  },
  {
   "cell_type": "code",
   "execution_count": 54,
   "metadata": {},
   "outputs": [],
   "source": [
    "#hs_2015.head()"
   ]
  },
  {
   "cell_type": "code",
   "execution_count": 36,
   "metadata": {},
   "outputs": [
    {
     "data": {
      "text/plain": [
       "{'whiskers': [<matplotlib.lines.Line2D at 0x1de247cfd48>,\n",
       "  <matplotlib.lines.Line2D at 0x1de247cfe48>,\n",
       "  <matplotlib.lines.Line2D at 0x1de244dcf08>,\n",
       "  <matplotlib.lines.Line2D at 0x1de244dcf88>,\n",
       "  <matplotlib.lines.Line2D at 0x1de244f1d88>,\n",
       "  <matplotlib.lines.Line2D at 0x1de244f1d08>,\n",
       "  <matplotlib.lines.Line2D at 0x1de244fd908>,\n",
       "  <matplotlib.lines.Line2D at 0x1de24504148>,\n",
       "  <matplotlib.lines.Line2D at 0x1de24513d08>,\n",
       "  <matplotlib.lines.Line2D at 0x1de244f1e88>],\n",
       " 'caps': [<matplotlib.lines.Line2D at 0x1de247cfec8>,\n",
       "  <matplotlib.lines.Line2D at 0x1de244d4dc8>,\n",
       "  <matplotlib.lines.Line2D at 0x1de244e4e88>,\n",
       "  <matplotlib.lines.Line2D at 0x1de244e4f88>,\n",
       "  <matplotlib.lines.Line2D at 0x1de244f1f48>,\n",
       "  <matplotlib.lines.Line2D at 0x1de244f69c8>,\n",
       "  <matplotlib.lines.Line2D at 0x1de245044c8>,\n",
       "  <matplotlib.lines.Line2D at 0x1de24504f08>,\n",
       "  <matplotlib.lines.Line2D at 0x1de24513f88>,\n",
       "  <matplotlib.lines.Line2D at 0x1de244f6ec8>],\n",
       " 'boxes': [<matplotlib.lines.Line2D at 0x1de247cf6c8>,\n",
       "  <matplotlib.lines.Line2D at 0x1de2449f288>,\n",
       "  <matplotlib.lines.Line2D at 0x1de244dc988>,\n",
       "  <matplotlib.lines.Line2D at 0x1de244f11c8>,\n",
       "  <matplotlib.lines.Line2D at 0x1de24513288>],\n",
       " 'medians': [<matplotlib.lines.Line2D at 0x1de244d4ec8>,\n",
       "  <matplotlib.lines.Line2D at 0x1de244eaac8>,\n",
       "  <matplotlib.lines.Line2D at 0x1de244f6c08>,\n",
       "  <matplotlib.lines.Line2D at 0x1de2450d2c8>,\n",
       "  <matplotlib.lines.Line2D at 0x1de2451b848>],\n",
       " 'fliers': [<matplotlib.lines.Line2D at 0x1de244d4f48>,\n",
       "  <matplotlib.lines.Line2D at 0x1de244eaf48>,\n",
       "  <matplotlib.lines.Line2D at 0x1de244fdcc8>,\n",
       "  <matplotlib.lines.Line2D at 0x1de24504f88>,\n",
       "  <matplotlib.lines.Line2D at 0x1de2451b548>],\n",
       " 'means': []}"
      ]
     },
     "execution_count": 36,
     "metadata": {},
     "output_type": "execute_result"
    },
    {
     "data": {
      "image/png": "[encoded data removed]",
      "text/plain": [
       "<Figure size 720x504 with 1 Axes>"
      ]
     },
     "metadata": {
      "needs_background": "light"
     },
     "output_type": "display_data"
    }
   ],
   "source": [
    "plt.boxplot([hs_2015['Happiness Score'],\n",
    "             hs_2016['Happiness Score'], \n",
    "             hs_2017['Happiness.Score'], \n",
    "             hs_2018['Score'],\n",
    "             hs_2019['Score'] ]) \n",
    "# я не нашла, как вместо 1,2,3.. поставить годы "
   ]
  },
  {
   "cell_type": "markdown",
   "metadata": {},
   "source": [
    "Медианное значение индекса счастья меняется незначительно, возможно это связано с тем, что взяты годы между кризисами. Думаю показатели 2020 будут сильно отличаться.\n",
    "Также видно, что существует очень сильный разброс между максимальным и минимальным значением. При этом в 2019 году он увеличился."
   ]
  },
  {
   "cell_type": "code",
   "execution_count": 61,
   "metadata": {},
   "outputs": [],
   "source": [
    "#regions1 = ih_2015.groupby(['Region'])['Happiness Score'].agg('mean')\n",
    "#regions1.head(15)"
   ]
  },
  {
   "cell_type": "code",
   "execution_count": 11,
   "metadata": {},
   "outputs": [
    {
     "data": {
      "text/plain": [
       "<BarContainer object of 158 artists>"
      ]
     },
     "execution_count": 11,
     "metadata": {},
     "output_type": "execute_result"
    },
    {
     "data": {
      "image/png": "[encoded data removed]",
      "text/plain": [
       "<Figure size 1080x648 with 1 Axes>"
      ]
     },
     "metadata": {
      "needs_background": "light"
     },
     "output_type": "display_data"
    }
   ],
   "source": [
    "plt.barh(ih_2015['Region'], ih_2015['Happiness Score'] )"
   ]
  },
  {
   "cell_type": "markdown",
   "metadata": {},
   "source": [
    "Средние индексы по регионам."
   ]
  },
  {
   "cell_type": "code",
   "execution_count": 142,
   "metadata": {},
   "outputs": [],
   "source": [
    "#ih_2015_h[list(filter(lambda x: x != 'Happiness Score' and x != 'Happiness Rank' and x != 'Standard Error' and x != 'Dystopia Residual', ih_2015_h.columns))]\\\n",
    "#    .plot(kind='bar', rot=90, stacked=True)\n",
    "#ih_2015_t[list(filter(lambda x: x != 'Happiness Score' and x != 'Happiness Rank' and x != 'Standard Error' and x != 'Dystopia Residual', ih_2015_t.columns))]\\\n",
    "#    .plot(kind='bar', rot=90, stacked=True)"
   ]
  },
  {
   "cell_type": "markdown",
   "metadata": {},
   "source": []
  },
  {
   "cell_type": "code",
   "execution_count": 136,
   "metadata": {},
   "outputs": [],
   "source": [
    "ht_2015 = pd.concat([ih_2015_h, ih_2015_t])"
   ]
  },
  {
   "cell_type": "code",
   "execution_count": 140,
   "metadata": {},
   "outputs": [],
   "source": [
    "#ht_2015"
   ]
  },
  {
   "cell_type": "code",
   "execution_count": 138,
   "metadata": {},
   "outputs": [
    {
     "data": {
      "text/plain": [
       "<matplotlib.axes._subplots.AxesSubplot at 0x1de25c8bf88>"
      ]
     },
     "execution_count": 138,
     "metadata": {},
     "output_type": "execute_result"
    },
    {
     "data": {
      "image/png": "[encoded data removed]",
      "text/plain": [
       "<Figure size 720x504 with 1 Axes>"
      ]
     },
     "metadata": {
      "needs_background": "light"
     },
     "output_type": "display_data"
    }
   ],
   "source": [
    "ht_2015[list(filter(lambda x: x != 'Happiness Score' and x != 'Happiness Rank' and x != 'Standard Error' and x != 'Dystopia Residual', ht_2015.columns))]\\\n",
    "    .plot(kind='bar', rot=90, stacked=True)"
   ]
  },
  {
   "cell_type": "markdown",
   "metadata": {},
   "source": [
    "При сравнении 10 макисмальных и 10 минимальных оценок можно сделать вывод, что определяющее влияние на индекс счастья имеет ВВП на душу населения. Для стран с высоким уровнем характерно равномерное распределение между показателями. В странах с низким уровнем удельный вес показателя \"семья\" становится более значимым.  "
   ]
  },
  {
   "cell_type": "code",
   "execution_count": 139,
   "metadata": {},
   "outputs": [
    {
     "data": {
      "text/plain": [
       "<matplotlib.axes._subplots.AxesSubplot at 0x1de27170ec8>"
      ]
     },
     "execution_count": 139,
     "metadata": {},
     "output_type": "execute_result"
    },
    {
     "data": {
      "image/png": "[encoded data removed]",
      "text/plain": [
       "<Figure size 720x504 with 1 Axes>"
      ]
     },
     "metadata": {
      "needs_background": "light"
     },
     "output_type": "display_data"
    }
   ],
   "source": [
    "ht_2015[list(filter(lambda x: x != 'Happiness Score' and x != 'Happiness Rank' and x != 'Standard Error', ht_2015.columns))]\\\n",
    "    .plot(kind='bar', rot=90, stacked=True)"
   ]
  },
  {
   "cell_type": "code",
   "execution_count": null,
   "metadata": {},
   "outputs": [],
   "source": []
  },
  {
   "cell_type": "code",
   "execution_count": 148,
   "metadata": {},
   "outputs": [
    {
     "data": {
      "text/plain": [
       "<matplotlib.axes._subplots.AxesSubplot at 0x1de270bebc8>"
      ]
     },
     "execution_count": 148,
     "metadata": {},
     "output_type": "execute_result"
    },
    {
     "data": {
      "image/png": "[encoded data removed]",
      "text/plain": [
       "<Figure size 720x504 with 1 Axes>"
      ]
     },
     "metadata": {
      "needs_background": "light"
     },
     "output_type": "display_data"
    }
   ],
   "source": [
    "sns.distplot(ih_2019['Score'])"
   ]
  },
  {
   "cell_type": "markdown",
   "metadata": {},
   "source": [
    "Распределение индекса"
   ]
  }
 ],
 "metadata": {
  "kernelspec": {
   "display_name": "Python 3",
   "language": "python",
   "name": "python3"
  },
  "language_info": {
   "codemirror_mode": {
    "name": "ipython",
    "version": 3
   },
   "file_extension": ".py",
   "mimetype": "text/x-python",
   "name": "python",
   "nbconvert_exporter": "python",
   "pygments_lexer": "ipython3",
   "version": "3.7.4"
  }
 },
 "nbformat": 4,
 "nbformat_minor": 2
}
