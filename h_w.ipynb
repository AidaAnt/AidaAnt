{
 "cells": [
  {
   "cell_type": "markdown",
   "metadata": {},
   "source": [
    "# Домашнее задание\n",
    "Переведите содержимое файла purchase_log.txt в словарь purchases вида:\n",
    "{'1840e0b9d4': 'Продукты', ...}\n",
    "Для каждого user_id в файле visit_log.csv определите третий столбец с категорией покупки (если покупка была, сам файл visit_log.csv изменять не надо). Запишите в файл funnel.csv визиты из файла visit_log.csv, в которых были покупки с указанием категории.\n",
    "Учтите условия на данные:\n",
    "содержимое purchase_log.txt помещается в оперативную память компьютера\n",
    "содержимое visit_log.csv - нет; используйте только построчную обработку этого файла"
   ]
  },
  {
   "cell_type": "code",
   "execution_count": 1,
   "metadata": {},
   "outputs": [],
   "source": [
    "f = open('purchase_log.txt', 'r', encoding='utf-8')\n",
    "content_p = f.readlines()\n",
    "d = dict ()\n",
    "for i in content_p:\n",
    "    lev = i.split('\", \"')\n",
    "    lev[0] = lev[0].split('\": \"')[1]\n",
    "    lev[1] = lev[1][12:-3]\n",
    "    d.update ({lev[0]:lev[1]})\n",
    "\n"
   ]
  },
  {
   "cell_type": "code",
   "execution_count": 2,
   "metadata": {},
   "outputs": [],
   "source": [
    "r = open('funnel1.csv', 'a', encoding='utf-8')\n",
    "with open('visit_log.csv', 'r', encoding='utf-8') as v:\n",
    "    for line in v:\n",
    "        el = line.split(',')\n",
    "        respond = d.get(el[0])\n",
    "        if respond != None:\n",
    "             r.write(f'{el[0]}, {el[1][:-1]}, {respond}\\n')\n",
    "r.close()"
   ]
  },
  {
   "cell_type": "code",
   "execution_count": null,
   "metadata": {},
   "outputs": [],
   "source": []
  }
 ],
 "metadata": {
  "kernelspec": {
   "display_name": "Python 3",
   "language": "python",
   "name": "python3"
  },
  "language_info": {
   "codemirror_mode": {
    "name": "ipython",
    "version": 3
   },
   "file_extension": ".py",
   "mimetype": "text/x-python",
   "name": "python",
   "nbconvert_exporter": "python",
   "pygments_lexer": "ipython3",
   "version": "3.7.4"
  }
 },
 "nbformat": 4,
 "nbformat_minor": 2
}
