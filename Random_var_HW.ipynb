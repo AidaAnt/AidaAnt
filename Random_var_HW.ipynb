{
 "cells": [
  {
   "cell_type": "markdown",
   "metadata": {},
   "source": [
    "Смоделировать игру против лотерейного автомата\n",
    "типа \"777\". Игрок платит 1 руб., после чего выпадает\n",
    "случайное целое число, равномерно распределенное\n",
    "от 0 до 999. При некоторых значениях числа игрок\n",
    "получает выигрыш (см. справа)\n",
    "\n",
    "● Выгодна ли игра игроку?\n",
    "\n",
    "● Сколько в среднем приобретает или теряет игрок за одну игру?\n",
    "\n",
    "777: 200 руб.\n",
    "\n",
    "999: 100 руб.\n",
    "\n",
    "555: 50 руб.\n",
    "\n",
    "333: 15 руб.\n",
    "\n",
    "111: 10 руб.\n",
    "\n",
    "*77: 5 руб.\n",
    "\n",
    "**7: 3 руб.\n",
    "\n",
    "*00: 2 руб.\n",
    "\n",
    "**0: 1 руб.\n",
    "\n",
    "* – любая цифра\n",
    "Дополнительное задание повышенной\n",
    "сложности. Теоретически рассчитать средний\n",
    "выигрыш (проигрыш) и сравнить с результатами\n",
    "моделирования"
   ]
  },
  {
   "cell_type": "code",
   "execution_count": 61,
   "metadata": {},
   "outputs": [
    {
     "name": "stdout",
     "output_type": "stream",
     "text": [
      "-155\n",
      "-0.155\n"
     ]
    }
   ],
   "source": [
    "import numpy as np\n",
    "\n",
    "trials = 1000    # Количество попыток\n",
    "success1 = 0       # Количество успехов\n",
    "success2 = 0\n",
    "success3 = 0\n",
    "success4 = 0\n",
    "success5 = 0\n",
    "success6 = 0\n",
    "success7 = 0\n",
    "success8 = 0\n",
    "success9 = 0\n",
    "loss = 0\n",
    "\n",
    "\n",
    "for i in range(trials):\n",
    "    x1 = np.random.randint(0, 10)\n",
    "    x2 = np.random.randint(0, 10)\n",
    "    x3 = np.random.randint(0, 10)\n",
    "    #x1 = 7\n",
    "    #x2 = 9\n",
    "    #x3 = 3\n",
    "#    random_score = str(x1) + str(x2) + str(x3)\n",
    "    if x1 == 7 and x2 == 7 and x3 == 7:\n",
    "        success1 += 1\n",
    "    elif x1 == 9 and x2 == 9 and x3 == 9:\n",
    "        success2 += 1\n",
    "    elif x1 == 5 and x2 == 5 and x3 == 5:\n",
    "        success3 += 1 \n",
    "    elif x1 == 3 and x2 == 3 and x3 == 3:\n",
    "        success4 += 1\n",
    "    elif x1 == 1 and x2 == 1 and x3 == 1:\n",
    "        success5 += 1 \n",
    "    elif x1 >= 0 and x2 == 7 and x3 == 7:\n",
    "        success6 += 1\n",
    "    elif x1 >= 0 and x2 >= 0 and x3 == 7:\n",
    "        success7 += 1\n",
    "    elif x1 >= 0 and x2 == 0 and x3 == 0:\n",
    "        success8 += 1 \n",
    "    elif x1 >= 0 and x2 >= 0 and x3 == 0:\n",
    "        success9 += 1\n",
    "    else:\n",
    "        loss +=1\n",
    "win_amount =  success1*199 +success2*99 + success3*49 + success4*14 + success5*9 + success6*4 + success7*2 + success8*1+ success9*0 - loss*1\n",
    "average_win = win_amount/trials\n",
    "print (win_amount)\n",
    "print (average_win)\n"
   ]
  },
  {
   "cell_type": "code",
   "execution_count": 62,
   "metadata": {},
   "outputs": [
    {
     "data": {
      "text/plain": [
       "-0.15499999999999992"
      ]
     },
     "execution_count": 62,
     "metadata": {},
     "output_type": "execute_result"
    }
   ],
   "source": [
    "aw = 0.001*199 + 0.001*99 + 0.001*49+ 0.001*14 +0.001*9 + 0.01*4 + 0.1*2 +0.01*1 + 0.1*0 - 0.775 \n",
    "aw"
   ]
  },
  {
   "cell_type": "code",
   "execution_count": null,
   "metadata": {},
   "outputs": [],
   "source": []
  }
 ],
 "metadata": {
  "kernelspec": {
   "display_name": "Python 3",
   "language": "python",
   "name": "python3"
  },
  "language_info": {
   "codemirror_mode": {
    "name": "ipython",
    "version": 3
   },
   "file_extension": ".py",
   "mimetype": "text/x-python",
   "name": "python",
   "nbconvert_exporter": "python",
   "pygments_lexer": "ipython3",
   "version": "3.7.4"
  }
 },
 "nbformat": 4,
 "nbformat_minor": 2
}
